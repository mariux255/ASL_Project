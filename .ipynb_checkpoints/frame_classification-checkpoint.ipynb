{
 "cells": [
  {
   "cell_type": "code",
   "execution_count": null,
   "metadata": {},
   "outputs": [],
   "source": [
    "import tqdm\n",
    "from preprocessing import exctract_json_data, define_categories\n",
    "import numpy as np\n",
    "import os\n",
    "import cv2\n",
    "\n",
    "\n",
    "data_directory = \"/Users/mjo/Desktop/WLASL/Processed_data/100\"\n",
    "\n",
    "\n",
    "count_dictionary, video_id_dictionary = exctract_json_data()\n",
    "labels_100, _, _, _, _ = define_categories(count_dictionary)\n",
    "\n",
    "labels_iterated = {}\n",
    "counter = 0\n",
    "for label in labels_100:\n",
    "    labels_iterated[label] = counter\n",
    "    counter += 1\n",
    "\n",
    "inv_video_id_dictionary = {}\n",
    "for k, v in video_id_dictionary.items(): \n",
    "    for video in v:\n",
    "        inv_video_id_dictionary[video] = k\n",
    "        \n",
    "def make_training_data(labels_x, video_id_dictionary, labels_iterated):\n",
    "    training_data = []\n",
    "    num_labels = len(labels_x)\n",
    "    for label in (labels_x):\n",
    "        for video in video_id_dictionary[label]:\n",
    "            path = os.path.join(data_directory, video)\n",
    "            for file in (os.listdir(path)):\n",
    "                if \"jpg\" in file:\n",
    "                    try:\n",
    "                        path = os.path.join(data_directory,video, file)\n",
    "                        img = cv2.imread(path, cv2.IMREAD_GRAYSCALE)\n",
    "                        training_data.append((np.array(img), np.eye(num_labels)[labels_iterated[label]]))\n",
    "                    except Exception as e:\n",
    "                        print(e)\n",
    "                        pass\n",
    "    return training_data\n",
    "\n",
    "training_data = make_training_data(labels_100, video_id_dictionary, labels_iterated)"
   ]
  },
  {
   "cell_type": "code",
   "execution_count": null,
   "metadata": {},
   "outputs": [],
   "source": [
    "import torch\n",
    "trainloader = torch.utils.data.DataLoader(training_data, batch_size=20,\n",
    "                                          shuffle=True, num_workers=2)"
   ]
  },
  {
   "cell_type": "code",
   "execution_count": null,
   "metadata": {},
   "outputs": [],
   "source": [
    "device = torch.device(\"cuda:0\" if torch.cuda.is_available() else \"cpu\")\n",
    "print(device)"
   ]
  },
  {
   "cell_type": "code",
   "execution_count": null,
   "metadata": {},
   "outputs": [],
   "source": [
    "import torch.nn as nn\n",
    "import torch.nn.functional as F\n",
    "\n",
    "\n",
    "class Net(nn.Module):\n",
    "    def __init__(self):\n",
    "        super(Net, self).__init__()\n",
    "        self.conv1 = nn.Conv2d(1, 128, 5)\n",
    "        self.pool = nn.MaxPool2d(4, 4)\n",
    "        self.pool2 = nn.MaxPool2d(2, 2)\n",
    "        self.conv2 = nn.Conv2d(128, 256, 5)\n",
    "        self.conv3 = nn.Conv2d(256, 512, 5)\n",
    "        self.conv4 = nn.Conv2d(512, 256, 5)\n",
    "        self.fc3 = nn.Linear(16384, 100)\n",
    "\n",
    "    def forward(self, x):\n",
    "        x = self.pool(F.relu(self.conv1(x.double())))\n",
    "        x = self.pool2(F.relu(self.conv2(x)))\n",
    "        x = self.pool2(F.relu(self.conv3(x)))\n",
    "        x = F.relu(self.conv4(x))\n",
    "        x = x.view(20, -1)\n",
    "        x = self.fc3(x)\n",
    "        return F.softmax(x, dim=1)\n",
    "\n",
    "\n",
    "net = Net().double()\n",
    "net = net.to(device)"
   ]
  },
  {
   "cell_type": "code",
   "execution_count": null,
   "metadata": {},
   "outputs": [],
   "source": [
    "import torch.optim as optim\n",
    "\n",
    "criterion = nn.MSELoss()\n",
    "optimizer = optim.SGD(net.parameters(), lr=0.001, momentum=0.9)"
   ]
  },
  {
   "cell_type": "code",
   "execution_count": null,
   "metadata": {},
   "outputs": [],
   "source": [
    "for epoch in range(2):  # loop over the dataset multiple times\n",
    "\n",
    "    running_loss = 0.0\n",
    "    for i, data in enumerate(trainloader, 0):\n",
    "        # get the inputs; data is a list of [inputs, labels]\n",
    "        inputs, labels = data\n",
    "        inputs = inputs.to(device)\n",
    "        labels.to(device)\n",
    "        inputs = inputs.view(-1,1,256,256)\n",
    "        # zero the parameter gradients\n",
    "        optimizer.zero_grad()\n",
    "        \n",
    "        # forward + backward + optimize\n",
    "        outputs = net(inputs)\n",
    "        loss = criterion(outputs, labels)\n",
    "        print(loss)\n",
    "        loss.backward()\n",
    "        optimizer.step()\n",
    "\n",
    "        # print statistics\n",
    "        running_loss += loss.item()\n",
    "        if i % 2000 == 1999:    # print every 2000 mini-batches\n",
    "            print('[%d, %5d] loss: %.3f' %\n",
    "                  (epoch + 1, i + 1, running_loss / 2000))\n",
    "            running_loss = 0.0\n",
    "\n",
    "print('Finished Training')"
   ]
  },
  {
   "cell_type": "code",
   "execution_count": null,
   "metadata": {},
   "outputs": [],
   "source": []
  }
 ],
 "metadata": {
  "kernelspec": {
   "display_name": "Python 3",
   "language": "python",
   "name": "python3"
  },
  "language_info": {
   "codemirror_mode": {
    "name": "ipython",
    "version": 3
   },
   "file_extension": ".py",
   "mimetype": "text/x-python",
   "name": "python",
   "nbconvert_exporter": "python",
   "pygments_lexer": "ipython3",
   "version": "3.7.7"
  }
 },
 "nbformat": 4,
 "nbformat_minor": 4
}
